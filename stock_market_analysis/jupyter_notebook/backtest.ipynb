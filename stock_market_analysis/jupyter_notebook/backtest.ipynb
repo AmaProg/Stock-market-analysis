{
 "cells": [
  {
   "cell_type": "code",
   "execution_count": null,
   "metadata": {},
   "outputs": [],
   "source": [
    "from commun import utils\n",
    "import pandas as pd\n",
    "\n",
    "json_data = utils.read_json_file(r'W:\\Stock-market-analysis\\stock_market_analysis\\database\\tickers\\jnj.json')\n",
    "\n",
    "data = json_data['historical_dividend']\n",
    "\n",
    "df = pd.DataFrame(data['historical'])\n",
    "\n",
    "df"
   ]
  },
  {
   "cell_type": "code",
   "execution_count": null,
   "metadata": {},
   "outputs": [],
   "source": [
    "from datetime import date\n",
    "\n",
    "today = date.today()\n",
    "\n",
    "year = today.year\n",
    "\n",
    "s = \" 2022.\"\n",
    "\n",
    "s.find(str(year))\n"
   ]
  },
  {
   "cell_type": "code",
   "execution_count": null,
   "metadata": {},
   "outputs": [],
   "source": [
    "import pandas as pd\n",
    "\n",
    "data: dict = {\"2022\":{\"dividend\":0.1}, \"2021\":{\"dividend\":0.2}, \"2020\":{\"dividend\":0.13}, \"2019\":{\"dividend\":0.14}, \"2018\": {\"dividend\":0.26},\"2017\": {\"dividend\":0.25}}\n",
    "\n",
    "\n",
    "df = pd.DataFrame(data)\n",
    "\n",
    "df = df.transpose()\n",
    "\n",
    "df.reset_index()\n",
    "\n",
    "df = df[::-1]\n",
    "\n",
    "#print(df['dividend'][3])\n",
    "\n",
    "index = len(df.index)\n",
    "\n",
    "print(index)\n",
    "\n",
    "for i in range(0, index-1):\n",
    "    a1 = df['dividend'][i]\n",
    "    a2 = df['dividend'][i+1]\n",
    "    \n",
    "    print(a2/a1)\n",
    "    \n",
    "    \n"
   ]
  },
  {
   "cell_type": "code",
   "execution_count": null,
   "metadata": {},
   "outputs": [],
   "source": [
    "from datetime import date\n",
    "custom_date = \"2020-02-25\"\n",
    "\n",
    "dt = (custom_date[0:4])\n",
    "\n",
    "dt"
   ]
  },
  {
   "cell_type": "code",
   "execution_count": null,
   "metadata": {},
   "outputs": [],
   "source": [
    "from dictionary import Dictionary\n",
    "\n",
    "\n",
    "dictionary: Dictionary = Dictionary()\n",
    "\n",
    "dictionary['pomme'] = 5\n",
    "dictionary['orange'] = 6\n",
    "dictionary['vert'] = 8\n",
    "\n",
    "p = {\n",
    "    'j': 575,\n",
    "    'f': 6,\n",
    "    'g': 15,\n",
    "    'b': 25\n",
    "}\n",
    "\n",
    "f = dictionary.first_value(p)\n",
    "l = dictionary.last_value(p)\n",
    "f\n",
    "#l\n"
   ]
  },
  {
   "cell_type": "code",
   "execution_count": 122,
   "metadata": {},
   "outputs": [
    {
     "ename": "FileNotFoundError",
     "evalue": "[Errno 2] No such file or directory: 'W:\\\\Stock-market-analysis\\\\stock_market_analysis\\\\database\\\\tickers\\\\tgt.json'",
     "output_type": "error",
     "traceback": [
      "\u001b[1;31m---------------------------------------------------------------------------\u001b[0m",
      "\u001b[1;31mFileNotFoundError\u001b[0m                         Traceback (most recent call last)",
      "Cell \u001b[1;32mIn[122], line 8\u001b[0m\n\u001b[0;32m      4\u001b[0m enterperise: Enterprise \u001b[39m=\u001b[39m Enterprise()\n\u001b[0;32m      6\u001b[0m json_data \u001b[39m=\u001b[39m \u001b[39mr\u001b[39m\u001b[39m'\u001b[39m\u001b[39mW:\u001b[39m\u001b[39m\\\u001b[39m\u001b[39mStock-market-analysis\u001b[39m\u001b[39m\\\u001b[39m\u001b[39mstock_market_analysis\u001b[39m\u001b[39m\\\u001b[39m\u001b[39mdatabase\u001b[39m\u001b[39m\\\u001b[39m\u001b[39mtickers\u001b[39m\u001b[39m\\\u001b[39m\u001b[39mtgt.json\u001b[39m\u001b[39m'\u001b[39m\n\u001b[1;32m----> 8\u001b[0m enterperise\u001b[39m.\u001b[39;49mload(json_data)\n\u001b[0;32m     10\u001b[0m historical_net_profit \u001b[39m=\u001b[39m enterperise\u001b[39m.\u001b[39mfinancial_statement\u001b[39m.\u001b[39mincome_statement\u001b[39m.\u001b[39mhistorical_net_profit \u001b[39m# net profit table\u001b[39;00m\n\u001b[0;32m     11\u001b[0m net_profit_growth \u001b[39m=\u001b[39m enterperise\u001b[39m.\u001b[39mfinancial_statement\u001b[39m.\u001b[39mincome_statement\u001b[39m.\u001b[39mget_net_profit_growth()\n",
      "File \u001b[1;32mw:\\Stock-market-analysis\\stock_market_analysis\\society\\stock_company.py:116\u001b[0m, in \u001b[0;36mEnterprise.load\u001b[1;34m(self, path)\u001b[0m\n\u001b[0;32m    110\u001b[0m \u001b[39mdef\u001b[39;00m \u001b[39mload\u001b[39m(\u001b[39mself\u001b[39m, path: \u001b[39mstr\u001b[39m) \u001b[39m-\u001b[39m\u001b[39m>\u001b[39m \u001b[39mNone\u001b[39;00m:\n\u001b[0;32m    111\u001b[0m     \u001b[39mf\u001b[39m\u001b[39m\"\"\"\u001b[39m\n\u001b[0;32m    112\u001b[0m \u001b[39m    La fonction \u001b[39m\u001b[39m{\u001b[39;00m\u001b[39mself\u001b[39m\u001b[39m.\u001b[39mload\u001b[39m}\u001b[39;00m\u001b[39m permet de charger les donnes de \u001b[39m\n\u001b[0;32m    113\u001b[0m \u001b[39m    l\u001b[39m\u001b[39m'\u001b[39m\u001b[39mentreprise qui ont ete sauvegarder avant \u001b[39m\n\u001b[0;32m    114\u001b[0m \u001b[39m    \u001b[39m\u001b[39m\"\"\"\u001b[39m\n\u001b[1;32m--> 116\u001b[0m     json_data \u001b[39m=\u001b[39m utils\u001b[39m.\u001b[39;49mread_json_file(path)\n\u001b[0;32m    118\u001b[0m     \u001b[39mself\u001b[39m\u001b[39m.\u001b[39moverview\u001b[39m.\u001b[39mprofile \u001b[39m=\u001b[39m json_data[\u001b[39m'\u001b[39m\u001b[39mprofile\u001b[39m\u001b[39m'\u001b[39m]\n\u001b[0;32m    119\u001b[0m     \u001b[39mself\u001b[39m\u001b[39m.\u001b[39mhistory_data\u001b[39m.\u001b[39mhistorical_dividend \u001b[39m=\u001b[39m json_data [\u001b[39m'\u001b[39m\u001b[39mhistorical_dividend\u001b[39m\u001b[39m'\u001b[39m]\n",
      "File \u001b[1;32mw:\\Stock-market-analysis\\stock_market_analysis\\commun\\utils.py:21\u001b[0m, in \u001b[0;36mread_json_file\u001b[1;34m(json_file)\u001b[0m\n\u001b[0;32m     20\u001b[0m \u001b[39mdef\u001b[39;00m \u001b[39mread_json_file\u001b[39m(json_file):\n\u001b[1;32m---> 21\u001b[0m     \u001b[39mwith\u001b[39;00m \u001b[39mopen\u001b[39;49m(json_file,\u001b[39m\"\u001b[39;49m\u001b[39mr\u001b[39;49m\u001b[39m\"\u001b[39;49m) \u001b[39mas\u001b[39;00m file:\n\u001b[0;32m     22\u001b[0m         json_data \u001b[39m=\u001b[39m json\u001b[39m.\u001b[39mload(file)\n\u001b[0;32m     24\u001b[0m     \u001b[39mreturn\u001b[39;00m json_data\n",
      "\u001b[1;31mFileNotFoundError\u001b[0m: [Errno 2] No such file or directory: 'W:\\\\Stock-market-analysis\\\\stock_market_analysis\\\\database\\\\tickers\\\\tgt.json'"
     ]
    }
   ],
   "source": [
    "\n",
    "from society.stock_company import Enterprise\n",
    "from commun import utils\n",
    "import pandas as pd\n",
    "enterperise: Enterprise = Enterprise()\n",
    "\n",
    "json_data = r'W:\\Stock-market-analysis\\stock_market_analysis\\database\\tickers\\tgt.json'\n",
    "\n",
    "enterperise.load(json_data)\n",
    "\n",
    "historical_net_profit = enterperise.financial_statement.income_statement.historical_net_profit # net profit table\n",
    "net_profit_growth = enterperise.financial_statement.income_statement.get_net_profit_growth()\n",
    "gross_margin_TTM= enterperise.financial_ratio.gross_margin_TTM # la marge brut\n",
    "net_margin_TTM = enterperise.financial_ratio.net_margin_TTM # la marge net\n",
    "historical_gross_profit = enterperise.financial_statement.income_statement.historical_gross_profit\n",
    "sea = enterperise.financial_statement.income_statement.historical_selling_general_and_admin_expense\n",
    "sae_per_gross_profit = enterperise.financial_statement.income_statement.sae_per_gross_profit\n",
    "rnd_per_gross_profit = enterperise.financial_statement.income_statement.rnd_per_gross_profit\n",
    "interet_expense_operating_income = enterperise.financial_statement.income_statement.interest_expense_per_operating_income\n",
    "\n",
    "\n",
    "print(\n",
    "    'Croissance de benefice net: {}\\n'.format(net_profit_growth),\n",
    "    'marge net: {}\\n'.format(net_margin_TTM),\n",
    "    'marge brut: {}\\n'.format(gross_margin_TTM),\n",
    "    'vda/revenu brut: {}\\n'.format(sae_per_gross_profit),\n",
    "    'r&d/revenu brut: {}\\n'.format(rnd_per_gross_profit),\n",
    "    'charge interet/revenu d exploitation: {}\\n'.format(interet_expense_operating_income)\n",
    "    \n",
    ")\n",
    "df = pd.DataFrame(historical_gross_profit)\n",
    "\n",
    "df = df.transpose()\n",
    "\n",
    "df[::-1].plot(subplots=True)\n"
   ]
  },
  {
   "cell_type": "code",
   "execution_count": null,
   "metadata": {},
   "outputs": [],
   "source": []
  },
  {
   "cell_type": "code",
   "execution_count": 21,
   "metadata": {},
   "outputs": [],
   "source": [
    "import requests\n",
    "\n",
    "ws_entry_point = 'https://api.statcan.gc.ca/census-recensement/profile/sdmx/rest'\n",
    "resource = 'dataflow'\n",
    "agency_id = 'STC_CP'\n",
    "resource_id = 'DF_PR'\n",
    "version = '?references=all'\n",
    "uri = '{}/{}/{}/{}{}'.format(ws_entry_point, resource, agency_id, resource_id, version)\n",
    "url_2 = 'https://sdw-wsrest.ecb.europa.eu/service/datastructure/ECB/ECB_EXR1/1.0?references=children'\n",
    "\n",
    "param = {\n",
    "    \n",
    "}\n",
    "\n",
    "header = {'Content-Type':'application/json',\n",
    "          'Accept': 'application/vnd.sdmx.structure+json;version=1.0'\n",
    "          }\n",
    "response = requests.get(uri, headers=header)\n",
    "\n",
    "\n"
   ]
  },
  {
   "cell_type": "code",
   "execution_count": 28,
   "metadata": {},
   "outputs": [],
   "source": [
    "import requests\n",
    "\n",
    "ws_entry_point = 'https://www150.statcan.gc.ca/t1/wds/sdmx/statcan/v1/rest'\n",
    "resource = 'data'\n",
    "flowref = 'DF_36100434'\n",
    "version = '10.2.2.0'\n",
    "uri = '{}/{}/{}/{}'.format(ws_entry_point, resource, flowref, version)\n",
    "\n",
    "param = {\n",
    "    \n",
    "}\n",
    "\n",
    "header_2 = {'Content-Type':'application/json',\n",
    "            'Accept':'application/vnd.sdmx.data+json;version=1.0.0-wd'\n",
    "          }\n",
    "response = requests.get(uri, headers=header_2)"
   ]
  },
  {
   "cell_type": "code",
   "execution_count": 29,
   "metadata": {},
   "outputs": [
    {
     "data": {
      "text/plain": [
       "'{\"header\":{\"id\":\"bfff1fc4-84d1-4daa-9b87-ddfd14dac378\",\"prepared\":\"2022-12-29T06:35:11\",\"test\":false,\"sender\":{\"id\":\"unknown\",\"name\":\"unknown\"}},\"dataSets\":[{\"action\":\"Information\",\"series\":{}}]}'"
      ]
     },
     "execution_count": 29,
     "metadata": {},
     "output_type": "execute_result"
    }
   ],
   "source": [
    "\n",
    "\n",
    "response.status_code\n",
    "response.headers['Content-Type']\n",
    "response.text\n",
    "#response.json()\n"
   ]
  },
  {
   "cell_type": "code",
   "execution_count": 93,
   "metadata": {},
   "outputs": [
    {
     "data": {
      "text/plain": [
       "[Timestamp('1998-06-01 00:00:00'),\n",
       " Timestamp('2001-07-01 00:00:00'),\n",
       " Timestamp('2002-12-01 00:00:00'),\n",
       " Timestamp('2003-04-01 00:00:00'),\n",
       " Timestamp('2008-11-01 00:00:00'),\n",
       " Timestamp('2012-02-01 00:00:00'),\n",
       " Timestamp('2012-09-01 00:00:00'),\n",
       " Timestamp('2015-02-01 00:00:00'),\n",
       " Timestamp('2016-03-01 00:00:00'),\n",
       " Timestamp('2020-04-01 00:00:00'),\n",
       " Timestamp('2021-05-01 00:00:00')]"
      ]
     },
     "execution_count": 93,
     "metadata": {},
     "output_type": "execute_result"
    }
   ],
   "source": [
    "from stats_can import sc\n",
    "\n",
    "df: pd.DataFrame = sc.vectors_to_df('v65201210', periods=12*200)\n",
    "df.columns = ['pib']\n",
    "df.index.names = ['date']\n",
    "df = df.reset_index()\n",
    "\n",
    "number_element = len(df) - 1\n",
    "\n",
    "df['pib'][0]\n",
    "recession = 0\n",
    "recession_list = []\n",
    "\n",
    "for i in range(0, number_element):\n",
    "    past = df['pib'][i]\n",
    "    present = df['pib'][i+1]\n",
    "    \n",
    "    cof = present/past\n",
    "    \n",
    "    if(cof < 1):\n",
    "        recession +=1\n",
    "    else:\n",
    "        recession = 0\n",
    "        \n",
    "    if(recession == 2):\n",
    "        report_date = df['date'][i+1]\n",
    "        recession_list.append(report_date)\n",
    "        \n",
    "recession_list\n",
    "    "
   ]
  },
  {
   "cell_type": "code",
   "execution_count": 121,
   "metadata": {},
   "outputs": [
    {
     "data": {
      "text/plain": [
       "<AxesSubplot: xlabel='date'>"
      ]
     },
     "execution_count": 121,
     "metadata": {},
     "output_type": "execute_result"
    },
    {
     "data": {
      "image/png": "[encoded data removed]",
      "text/plain": [
       "<Figure size 640x480 with 1 Axes>"
      ]
     },
     "metadata": {},
     "output_type": "display_data"
    }
   ],
   "source": [
    "from stats_can import sc\n",
    "\n",
    "df: pd.DataFrame = sc.vectors_to_df('v41691239', periods=12*100)\n",
    "df.columns = ['hypo']\n",
    "df.index.names = ['date']\n",
    "\n",
    "df[::-1].plot()"
   ]
  }
 ],
 "metadata": {
  "kernelspec": {
   "display_name": "venv",
   "language": "python",
   "name": "python3"
  },
  "language_info": {
   "codemirror_mode": {
    "name": "ipython",
    "version": 3
   },
   "file_extension": ".py",
   "mimetype": "text/x-python",
   "name": "python",
   "nbconvert_exporter": "python",
   "pygments_lexer": "ipython3",
   "version": "3.10.4"
  },
  "orig_nbformat": 4,
  "vscode": {
   "interpreter": {
    "hash": "b8f64013424348cacbe9dca408948f51859c087fff9845f3d226af983dcf16c9"
   }
  }
 },
 "nbformat": 4,
 "nbformat_minor": 2
}
